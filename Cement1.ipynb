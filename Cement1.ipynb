{
  "nbformat": 4,
  "nbformat_minor": 0,
  "metadata": {
    "colab": {
      "provenance": [],
      "authorship_tag": "ABX9TyOS9K58KfIgGFGAMrbFTEdI",
      "include_colab_link": true
    },
    "kernelspec": {
      "name": "python3",
      "display_name": "Python 3"
    },
    "language_info": {
      "name": "python"
    }
  },
  "cells": [
    {
      "cell_type": "markdown",
      "metadata": {
        "id": "view-in-github",
        "colab_type": "text"
      },
      "source": [
        "<a href=\"https://colab.research.google.com/github/Git-sDev-Dan007/Data_Analytics/blob/MAIN/Cement1.ipynb\" target=\"_parent\"><img src=\"https://colab.research.google.com/assets/colab-badge.svg\" alt=\"Open In Colab\"/></a>"
      ]
    },
    {
      "cell_type": "code",
      "execution_count": null,
      "metadata": {
        "colab": {
          "base_uri": "https://localhost:8080/",
          "height": 542
        },
        "id": "dqI0Tn6wd4EB",
        "outputId": "5552271e-0ab8-47a5-eeae-483c24381837"
      },
      "outputs": [
        {
          "output_type": "display_data",
          "data": {
            "text/plain": [
              "<IPython.core.display.HTML object>"
            ],
            "text/html": [
              "\n",
              "     <input type=\"file\" id=\"files-3389961d-1e34-489a-8c5c-277cfe63da0d\" name=\"files[]\" multiple disabled\n",
              "        style=\"border:none\" />\n",
              "     <output id=\"result-3389961d-1e34-489a-8c5c-277cfe63da0d\">\n",
              "      Upload widget is only available when the cell has been executed in the\n",
              "      current browser session. Please rerun this cell to enable.\n",
              "      </output>\n",
              "      <script>// Copyright 2017 Google LLC\n",
              "//\n",
              "// Licensed under the Apache License, Version 2.0 (the \"License\");\n",
              "// you may not use this file except in compliance with the License.\n",
              "// You may obtain a copy of the License at\n",
              "//\n",
              "//      http://www.apache.org/licenses/LICENSE-2.0\n",
              "//\n",
              "// Unless required by applicable law or agreed to in writing, software\n",
              "// distributed under the License is distributed on an \"AS IS\" BASIS,\n",
              "// WITHOUT WARRANTIES OR CONDITIONS OF ANY KIND, either express or implied.\n",
              "// See the License for the specific language governing permissions and\n",
              "// limitations under the License.\n",
              "\n",
              "/**\n",
              " * @fileoverview Helpers for google.colab Python module.\n",
              " */\n",
              "(function(scope) {\n",
              "function span(text, styleAttributes = {}) {\n",
              "  const element = document.createElement('span');\n",
              "  element.textContent = text;\n",
              "  for (const key of Object.keys(styleAttributes)) {\n",
              "    element.style[key] = styleAttributes[key];\n",
              "  }\n",
              "  return element;\n",
              "}\n",
              "\n",
              "// Max number of bytes which will be uploaded at a time.\n",
              "const MAX_PAYLOAD_SIZE = 100 * 1024;\n",
              "\n",
              "function _uploadFiles(inputId, outputId) {\n",
              "  const steps = uploadFilesStep(inputId, outputId);\n",
              "  const outputElement = document.getElementById(outputId);\n",
              "  // Cache steps on the outputElement to make it available for the next call\n",
              "  // to uploadFilesContinue from Python.\n",
              "  outputElement.steps = steps;\n",
              "\n",
              "  return _uploadFilesContinue(outputId);\n",
              "}\n",
              "\n",
              "// This is roughly an async generator (not supported in the browser yet),\n",
              "// where there are multiple asynchronous steps and the Python side is going\n",
              "// to poll for completion of each step.\n",
              "// This uses a Promise to block the python side on completion of each step,\n",
              "// then passes the result of the previous step as the input to the next step.\n",
              "function _uploadFilesContinue(outputId) {\n",
              "  const outputElement = document.getElementById(outputId);\n",
              "  const steps = outputElement.steps;\n",
              "\n",
              "  const next = steps.next(outputElement.lastPromiseValue);\n",
              "  return Promise.resolve(next.value.promise).then((value) => {\n",
              "    // Cache the last promise value to make it available to the next\n",
              "    // step of the generator.\n",
              "    outputElement.lastPromiseValue = value;\n",
              "    return next.value.response;\n",
              "  });\n",
              "}\n",
              "\n",
              "/**\n",
              " * Generator function which is called between each async step of the upload\n",
              " * process.\n",
              " * @param {string} inputId Element ID of the input file picker element.\n",
              " * @param {string} outputId Element ID of the output display.\n",
              " * @return {!Iterable<!Object>} Iterable of next steps.\n",
              " */\n",
              "function* uploadFilesStep(inputId, outputId) {\n",
              "  const inputElement = document.getElementById(inputId);\n",
              "  inputElement.disabled = false;\n",
              "\n",
              "  const outputElement = document.getElementById(outputId);\n",
              "  outputElement.innerHTML = '';\n",
              "\n",
              "  const pickedPromise = new Promise((resolve) => {\n",
              "    inputElement.addEventListener('change', (e) => {\n",
              "      resolve(e.target.files);\n",
              "    });\n",
              "  });\n",
              "\n",
              "  const cancel = document.createElement('button');\n",
              "  inputElement.parentElement.appendChild(cancel);\n",
              "  cancel.textContent = 'Cancel upload';\n",
              "  const cancelPromise = new Promise((resolve) => {\n",
              "    cancel.onclick = () => {\n",
              "      resolve(null);\n",
              "    };\n",
              "  });\n",
              "\n",
              "  // Wait for the user to pick the files.\n",
              "  const files = yield {\n",
              "    promise: Promise.race([pickedPromise, cancelPromise]),\n",
              "    response: {\n",
              "      action: 'starting',\n",
              "    }\n",
              "  };\n",
              "\n",
              "  cancel.remove();\n",
              "\n",
              "  // Disable the input element since further picks are not allowed.\n",
              "  inputElement.disabled = true;\n",
              "\n",
              "  if (!files) {\n",
              "    return {\n",
              "      response: {\n",
              "        action: 'complete',\n",
              "      }\n",
              "    };\n",
              "  }\n",
              "\n",
              "  for (const file of files) {\n",
              "    const li = document.createElement('li');\n",
              "    li.append(span(file.name, {fontWeight: 'bold'}));\n",
              "    li.append(span(\n",
              "        `(${file.type || 'n/a'}) - ${file.size} bytes, ` +\n",
              "        `last modified: ${\n",
              "            file.lastModifiedDate ? file.lastModifiedDate.toLocaleDateString() :\n",
              "                                    'n/a'} - `));\n",
              "    const percent = span('0% done');\n",
              "    li.appendChild(percent);\n",
              "\n",
              "    outputElement.appendChild(li);\n",
              "\n",
              "    const fileDataPromise = new Promise((resolve) => {\n",
              "      const reader = new FileReader();\n",
              "      reader.onload = (e) => {\n",
              "        resolve(e.target.result);\n",
              "      };\n",
              "      reader.readAsArrayBuffer(file);\n",
              "    });\n",
              "    // Wait for the data to be ready.\n",
              "    let fileData = yield {\n",
              "      promise: fileDataPromise,\n",
              "      response: {\n",
              "        action: 'continue',\n",
              "      }\n",
              "    };\n",
              "\n",
              "    // Use a chunked sending to avoid message size limits. See b/62115660.\n",
              "    let position = 0;\n",
              "    do {\n",
              "      const length = Math.min(fileData.byteLength - position, MAX_PAYLOAD_SIZE);\n",
              "      const chunk = new Uint8Array(fileData, position, length);\n",
              "      position += length;\n",
              "\n",
              "      const base64 = btoa(String.fromCharCode.apply(null, chunk));\n",
              "      yield {\n",
              "        response: {\n",
              "          action: 'append',\n",
              "          file: file.name,\n",
              "          data: base64,\n",
              "        },\n",
              "      };\n",
              "\n",
              "      let percentDone = fileData.byteLength === 0 ?\n",
              "          100 :\n",
              "          Math.round((position / fileData.byteLength) * 100);\n",
              "      percent.textContent = `${percentDone}% done`;\n",
              "\n",
              "    } while (position < fileData.byteLength);\n",
              "  }\n",
              "\n",
              "  // All done.\n",
              "  yield {\n",
              "    response: {\n",
              "      action: 'complete',\n",
              "    }\n",
              "  };\n",
              "}\n",
              "\n",
              "scope.google = scope.google || {};\n",
              "scope.google.colab = scope.google.colab || {};\n",
              "scope.google.colab._files = {\n",
              "  _uploadFiles,\n",
              "  _uploadFilesContinue,\n",
              "};\n",
              "})(self);\n",
              "</script> "
            ]
          },
          "metadata": {}
        },
        {
          "output_type": "stream",
          "name": "stdout",
          "text": [
            "Saving concrete.csv to concrete.csv\n",
            "      Cement  Water  Fine Aggregate  Coarse Aggregate  Superplasticizer  \\\n",
            "0      141.3  203.5           748.5             971.8               0.0   \n",
            "1      168.9  158.3           796.2            1080.8              10.8   \n",
            "2      250.0  187.4           861.2             956.9               5.5   \n",
            "3      266.0  228.0           670.0             932.0               0.0   \n",
            "4      154.8  193.3           696.7            1047.4               9.1   \n",
            "...      ...    ...             ...               ...               ...   \n",
            "1025   135.0  180.0           805.0             961.0              10.0   \n",
            "1026   531.3  141.8           893.7             852.1              28.2   \n",
            "1027   276.4  179.6           768.3             870.1               8.9   \n",
            "1028   342.0  228.0           670.0             932.0               0.0   \n",
            "1029   540.0  173.0           613.0            1125.0               0.0   \n",
            "\n",
            "      Classification  Aggregated Score  \n",
            "0                  2            2409.9  \n",
            "1                  3            2553.0  \n",
            "2                  2            2703.9  \n",
            "3                  2            2590.0  \n",
            "4                  3            2458.5  \n",
            "...              ...               ...  \n",
            "1025               2            2416.0  \n",
            "1026               1            3148.4  \n",
            "1027               2            2568.2  \n",
            "1028               2            2742.0  \n",
            "1029               0            3164.0  \n",
            "\n",
            "[1030 rows x 7 columns]\n"
          ]
        }
      ],
      "source": [
        "from google.colab import files\n",
        "import pandas as pd\n",
        "\n",
        "# Upload your CSV file\n",
        "uploaded = files.upload()\n",
        "\n",
        "# Assuming your CSV file is named 'your_dataset.csv', adjust the filename accordingly\n",
        "filename = next(iter(uploaded))\n",
        "\n",
        "# Read the CSV file into a pandas DataFrame\n",
        "data = pd.read_csv(filename)\n",
        "\n",
        "# Define weights for each criterion\n",
        "weights = {\n",
        "    'Cement': 2,\n",
        "    'Fine Aggregate': 1,\n",
        "    'Coarse Aggregate': 1,\n",
        "    'Water': 2,\n",
        "    'Superplasticizer': 2\n",
        "}\n",
        "\n",
        "# Define function to calculate aggregated score for each row\n",
        "def calculate_aggregated_score(row):\n",
        "    score = 0\n",
        "    for column, weight in weights.items():\n",
        "        # Assuming values are represented as integers (e.g., M=1, L=2, VL=3, etc.)\n",
        "        score += weight * row[column]\n",
        "    return score\n",
        "\n",
        "# Add 'Aggregated Score' column to the DataFrame\n",
        "data['Aggregated Score'] = data.apply(calculate_aggregated_score, axis=1)\n",
        "\n",
        "# Now the DataFrame contains the 'Aggregated Score' column\n",
        "print(data)\n"
      ]
    },
    {
      "cell_type": "code",
      "source": [
        "# Save the modified DataFrame to a new CSV file\n",
        "data.to_csv('modified_dataset.csv', index=False)\n",
        "import os\n",
        "\n",
        "# List files in the current directory\n",
        "files = os.listdir('.')\n",
        "print(files)\n",
        "import pandas as pd\n",
        "\n",
        "# Read the modified dataset from the saved CSV file\n",
        "modified_data = pd.read_csv('modified_dataset.csv')\n",
        "\n",
        "# Display the first few rows of the modified dataset to verify\n",
        "print(modified_data.head())\n"
      ],
      "metadata": {
        "colab": {
          "base_uri": "https://localhost:8080/"
        },
        "id": "-_WLQvp5mlCQ",
        "outputId": "1b09d250-98ec-418b-ddd1-07caa9a53e66"
      },
      "execution_count": null,
      "outputs": [
        {
          "output_type": "stream",
          "name": "stdout",
          "text": [
            "['.config', 'modified_dataset.csv', 'concrete.csv', 'sample_data']\n",
            "   Cement  Water  Fine Aggregate  Coarse Aggregate  Superplasticizer  \\\n",
            "0   141.3  203.5           748.5             971.8               0.0   \n",
            "1   168.9  158.3           796.2            1080.8              10.8   \n",
            "2   250.0  187.4           861.2             956.9               5.5   \n",
            "3   266.0  228.0           670.0             932.0               0.0   \n",
            "4   154.8  193.3           696.7            1047.4               9.1   \n",
            "\n",
            "   Classification  Aggregated Score  \n",
            "0               2            2409.9  \n",
            "1               3            2553.0  \n",
            "2               2            2703.9  \n",
            "3               2            2590.0  \n",
            "4               3            2458.5  \n"
          ]
        }
      ]
    },
    {
      "cell_type": "code",
      "source": [
        "from google.colab import files\n",
        "\n",
        "# Replace 'your_dataset.csv' with the name of your dataset file\n",
        "file_name = 'modified_dataset.csv'\n",
        "\n",
        "# Download the dataset file\n",
        "files.download(file_name)"
      ],
      "metadata": {
        "colab": {
          "base_uri": "https://localhost:8080/",
          "height": 17
        },
        "id": "kLIVVdajEwNn",
        "outputId": "717bcd68-8da6-4c61-fb65-0310f5fc7845"
      },
      "execution_count": null,
      "outputs": [
        {
          "output_type": "display_data",
          "data": {
            "text/plain": [
              "<IPython.core.display.Javascript object>"
            ],
            "application/javascript": [
              "\n",
              "    async function download(id, filename, size) {\n",
              "      if (!google.colab.kernel.accessAllowed) {\n",
              "        return;\n",
              "      }\n",
              "      const div = document.createElement('div');\n",
              "      const label = document.createElement('label');\n",
              "      label.textContent = `Downloading \"${filename}\": `;\n",
              "      div.appendChild(label);\n",
              "      const progress = document.createElement('progress');\n",
              "      progress.max = size;\n",
              "      div.appendChild(progress);\n",
              "      document.body.appendChild(div);\n",
              "\n",
              "      const buffers = [];\n",
              "      let downloaded = 0;\n",
              "\n",
              "      const channel = await google.colab.kernel.comms.open(id);\n",
              "      // Send a message to notify the kernel that we're ready.\n",
              "      channel.send({})\n",
              "\n",
              "      for await (const message of channel.messages) {\n",
              "        // Send a message to notify the kernel that we're ready.\n",
              "        channel.send({})\n",
              "        if (message.buffers) {\n",
              "          for (const buffer of message.buffers) {\n",
              "            buffers.push(buffer);\n",
              "            downloaded += buffer.byteLength;\n",
              "            progress.value = downloaded;\n",
              "          }\n",
              "        }\n",
              "      }\n",
              "      const blob = new Blob(buffers, {type: 'application/binary'});\n",
              "      const a = document.createElement('a');\n",
              "      a.href = window.URL.createObjectURL(blob);\n",
              "      a.download = filename;\n",
              "      div.appendChild(a);\n",
              "      a.click();\n",
              "      div.remove();\n",
              "    }\n",
              "  "
            ]
          },
          "metadata": {}
        },
        {
          "output_type": "display_data",
          "data": {
            "text/plain": [
              "<IPython.core.display.Javascript object>"
            ],
            "application/javascript": [
              "download(\"download_1b6dbd3f-4db3-485b-8ce2-4e403a901c3d\", \"modified_dataset.csv\", 41224)"
            ]
          },
          "metadata": {}
        }
      ]
    },
    {
      "cell_type": "markdown",
      "source": [
        "Classification of the Dataset and Training of our Model\n"
      ],
      "metadata": {
        "id": "6CznmE5IoWT9"
      }
    },
    {
      "cell_type": "code",
      "source": [
        "from sklearn.model_selection import train_test_split\n",
        "from sklearn.ensemble import RandomForestClassifier\n",
        "from sklearn.metrics import classification_report, accuracy_score\n",
        "\n",
        "# Split the data into features (X) and target variable (y)\n",
        "X = data.drop(columns=['Classification'])  # Features\n",
        "y = data['Classification']  # Target variable\n",
        "\n",
        "# Split data into training and testing sets (80% train, 20% test)\n",
        "X_train, X_test, y_train, y_test = train_test_split(X, y, test_size=0.2, random_state=42)\n",
        "\n",
        "# Initialize the Random Forest classifier\n",
        "rf_classifier = RandomForestClassifier(random_state=42)\n",
        "\n",
        "# Train the classifier\n",
        "rf_classifier.fit(X_train, y_train)\n",
        "\n",
        "# Predict the concrete type for the test set\n",
        "y_pred = rf_classifier.predict(X_test)\n",
        "\n",
        "# Evaluate the model's performance\n",
        "accuracy = accuracy_score(y_test, y_pred)\n",
        "print(\"Accuracy-Ratio:\", accuracy)\n",
        "print(\"\\nClassification Report:\")\n",
        "print(classification_report(y_test, y_pred))\n"
      ],
      "metadata": {
        "colab": {
          "base_uri": "https://localhost:8080/"
        },
        "id": "EuETO6RxoyCa",
        "outputId": "adf6c528-c516-4e57-938f-e77f797e24e7"
      },
      "execution_count": null,
      "outputs": [
        {
          "output_type": "stream",
          "name": "stdout",
          "text": [
            "Accuracy: 1.0\n",
            "\n",
            "Classification Report:\n",
            "              precision    recall  f1-score   support\n",
            "\n",
            "           0       1.00      1.00      1.00        13\n",
            "           1       1.00      1.00      1.00        21\n",
            "           2       1.00      1.00      1.00       113\n",
            "           3       1.00      1.00      1.00        59\n",
            "\n",
            "    accuracy                           1.00       206\n",
            "   macro avg       1.00      1.00      1.00       206\n",
            "weighted avg       1.00      1.00      1.00       206\n",
            "\n"
          ]
        }
      ]
    },
    {
      "cell_type": "markdown",
      "source": [
        "Prediction of concrete class:\n"
      ],
      "metadata": {
        "id": "MMA5ImD3p9A0"
      }
    },
    {
      "cell_type": "code",
      "source": [
        "import pandas as pd\n",
        "from sklearn.model_selection import train_test_split\n",
        "from sklearn.ensemble import RandomForestClassifier\n",
        "from sklearn.metrics import classification_report\n",
        "\n",
        "# Split the dataset into features (X) and target variable (y)\n",
        "X = data.drop(columns=['Classification'])  # Features (Aggregated Score)\n",
        "y = data['Classification']  # Target variable\n",
        "\n",
        "# Split the dataset into training and testing sets (80% train, 20% test)\n",
        "X_train, X_test, y_train, y_test = train_test_split(X, y, test_size=0.2, random_state=42)\n",
        "\n",
        "# Initialize the Random Forest classifier\n",
        "rf_classifier = RandomForestClassifier(random_state=42)\n",
        "\n",
        "# Train the classifier on the training data\n",
        "rf_classifier.fit(X_train, y_train)\n",
        "\n",
        "# Evaluate the model's performance on the testing data\n",
        "y_pred = rf_classifier.predict(X_test)\n",
        "\n",
        "# Generate and print the classification report\n",
        "print(\"Classification Report:\")\n",
        "print(classification_report(y_test, y_pred))\n",
        "\n",
        "# Predict concrete type for the entire dataset\n",
        "all_predictions = rf_classifier.predict(X)\n",
        "\n",
        "# Analyze the predictions\n",
        "prediction_counts = pd.Series(all_predictions).value_counts()\n",
        "most_frequent_concrete_type = prediction_counts.idxmax()\n",
        "print(\"Most frequently predicted concrete type:\", most_frequent_concrete_type)\n"
      ],
      "metadata": {
        "colab": {
          "base_uri": "https://localhost:8080/"
        },
        "id": "xIBk7pH5qDSj",
        "outputId": "b4294fc7-e073-4777-8355-3bc2b731eac1"
      },
      "execution_count": null,
      "outputs": [
        {
          "output_type": "stream",
          "name": "stdout",
          "text": [
            "Classification Report:\n",
            "              precision    recall  f1-score   support\n",
            "\n",
            "           0       1.00      1.00      1.00        13\n",
            "           1       1.00      1.00      1.00        21\n",
            "           2       1.00      1.00      1.00       113\n",
            "           3       1.00      1.00      1.00        59\n",
            "\n",
            "    accuracy                           1.00       206\n",
            "   macro avg       1.00      1.00      1.00       206\n",
            "weighted avg       1.00      1.00      1.00       206\n",
            "\n",
            "Most frequently predicted concrete type: 2\n"
          ]
        }
      ]
    },
    {
      "cell_type": "code",
      "source": [
        "\n",
        "# Define concrete type names\n",
        "concrete_type_names = {\n",
        "    0: \"Light weight concrete\",\n",
        "    1: \"Plain Concrete\",\n",
        "    2: \"Self compacting concrete\",\n",
        "    3: \"Heavy weight concrete\"\n",
        "}\n",
        "\n",
        "# Find the most frequently predicted concrete type\n",
        "most_frequent_concrete_type_label = data['Classification'].mode()[0]\n",
        "most_frequent_concrete_type = concrete_type_names[most_frequent_concrete_type_label]\n",
        "\n",
        "print(\"Most frequently predicted concrete type:\", most_frequent_concrete_type)\n"
      ],
      "metadata": {
        "colab": {
          "base_uri": "https://localhost:8080/"
        },
        "id": "H0TIHRnaq8f6",
        "outputId": "0716222a-d598-4824-f5ac-20cff54781e3"
      },
      "execution_count": null,
      "outputs": [
        {
          "output_type": "stream",
          "name": "stdout",
          "text": [
            "Most frequently predicted concrete type: Self compacting concrete\n"
          ]
        }
      ]
    },
    {
      "cell_type": "markdown",
      "source": [
        "Final Analysis,Using graphs !!\n",
        "\n"
      ],
      "metadata": {
        "id": "DrKwKysRr_lm"
      }
    },
    {
      "cell_type": "code",
      "source": [
        "import matplotlib.pyplot as plt\n",
        "# Define concrete type names\n",
        "concrete_type_names = {\n",
        "    0: \"Light weight concrete\",\n",
        "    1: \"Plain Concrete\",\n",
        "    2: \"Self compacting concrete\",\n",
        "    3: \"Heavy weight concrete\"\n",
        "}\n",
        "\n",
        "# Plot the distribution of predicted concrete types\n",
        "plt.figure(figsize=(8, 6))\n",
        "data['Classification'].map(concrete_type_names).value_counts().plot(kind='bar', color='skyblue')\n",
        "plt.title('Distribution of Predicted Concrete Types')\n",
        "plt.xlabel('Concrete Type')\n",
        "plt.ylabel('Frequency')\n",
        "plt.xticks(rotation=45, ha='right')\n",
        "plt.tight_layout()\n",
        "plt.show()\n"
      ],
      "metadata": {
        "colab": {
          "base_uri": "https://localhost:8080/",
          "height": 607
        },
        "id": "8cLWK8xNsH2s",
        "outputId": "73b9b300-c3c3-4377-b57e-59f7575a6602"
      },
      "execution_count": null,
      "outputs": [
        {
          "output_type": "display_data",
          "data": {
            "text/plain": [
              "<Figure size 800x600 with 1 Axes>"
            ],
            "image/png": "[encoded data removed]"
          },
          "metadata": {}
        }
      ]
    },
    {
      "cell_type": "markdown",
      "source": [
        "Plot distribution based on the Aggregated Score.\n"
      ],
      "metadata": {
        "id": "_EkklNsTsbdH"
      }
    },
    {
      "cell_type": "code",
      "source": [
        "import seaborn as sns\n",
        "\n",
        "# Define concrete type names\n",
        "concrete_type_names = {\n",
        "    0: \"Light weight concrete\",\n",
        "    1: \"Plain Concrete\",\n",
        "    2: \"Self compacting concrete\",\n",
        "    3: \"Heavy weight concrete\"\n",
        "}\n",
        "\n",
        "# Plot the distribution of aggregated scores for each concrete type\n",
        "\n",
        "plt.figure(figsize=(10, 6))\n",
        "sns.boxplot(x='Classification', y='Aggregated Score', data=data, palette='viridis')\n",
        "plt.title('Distribution of Aggregated Scores for Different Concrete Types')\n",
        "plt.xlabel('Concrete Type')\n",
        "plt.ylabel('Aggregated Score')\n",
        "plt.xticks(ticks=[0, 1, 2, 3], labels=[concrete_type_names[i] for i in range(4)], rotation=45, ha='right')\n",
        "plt.tight_layout()\n",
        "plt.show()\n"
      ],
      "metadata": {
        "id": "_jope2mYsf9h",
        "outputId": "357c3b55-157a-4e62-86ad-3d1a0cba5cff",
        "colab": {
          "base_uri": "https://localhost:8080/",
          "height": 714
        }
      },
      "execution_count": null,
      "outputs": [
        {
          "output_type": "stream",
          "name": "stderr",
          "text": [
            "<ipython-input-17-b4aaa0235045>:14: FutureWarning: \n",
            "\n",
            "Passing `palette` without assigning `hue` is deprecated and will be removed in v0.14.0. Assign the `x` variable to `hue` and set `legend=False` for the same effect.\n",
            "\n",
            "  sns.boxplot(x='Classification', y='Aggregated Score', data=data, palette='viridis')\n"
          ]
        },
        {
          "output_type": "display_data",
          "data": {
            "text/plain": [
              "<Figure size 1000x600 with 1 Axes>"
            ],
            "image/png": "[encoded data removed]"
          },
          "metadata": {}
        }
      ]
    }
  ]
}